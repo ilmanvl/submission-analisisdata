{
 "cells": [
  {
   "cell_type": "markdown",
   "id": "f95931d1",
   "metadata": {},
   "source": [
    "# Bike Sharing Dashboard ✨"
   ]
  },
  {
   "cell_type": "markdown",
   "id": "bea96a5b",
   "metadata": {},
   "source": [
    "## Setup Environment - Anaconda\n",
    "- conda create --name bike-sharing-ds python=3.11\n",
    "- conda activate bike-sharing-ds\n",
    "- pip install -r requirements.txt"
   ]
  },
  {
   "cell_type": "markdown",
   "id": "4066dcdd",
   "metadata": {},
   "source": [
    "## Setup Environment - Shell/Terminal\n",
    "- mkdir submission\n",
    "- cd submission\n",
    "- pipenv install\n",
    "- pipenv shell\n",
    "- pip install -r requirements.txt"
   ]
  },
  {
   "cell_type": "markdown",
   "id": "21078c59",
   "metadata": {},
   "source": [
    "## Run Streamlit App\n",
    "streamlit run dashboard.py"
   ]
  }
 ],
 "metadata": {
  "kernelspec": {
   "display_name": "Python 3 (ipykernel)",
   "language": "python",
   "name": "python3"
  },
  "language_info": {
   "codemirror_mode": {
    "name": "ipython",
    "version": 3
   },
   "file_extension": ".py",
   "mimetype": "text/x-python",
   "name": "python",
   "nbconvert_exporter": "python",
   "pygments_lexer": "ipython3",
   "version": "3.11.3"
  }
 },
 "nbformat": 4,
 "nbformat_minor": 5
}
